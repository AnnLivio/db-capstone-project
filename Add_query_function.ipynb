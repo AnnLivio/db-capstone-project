{
 "cells": [
  {
   "cell_type": "code",
   "execution_count": 1,
   "id": "0d06a516-6d07-4277-a890-9f35b4c6da14",
   "metadata": {},
   "outputs": [],
   "source": [
    "#import the library\n",
    "import os\n",
    "from dotenv import load_dotenv\n",
    "import mysql.connector as connector"
   ]
  },
  {
   "cell_type": "markdown",
   "id": "e368cfab-d415-4efd-aa32-5f018a0c6892",
   "metadata": {},
   "source": [
    "### Task 1"
   ]
  },
  {
   "cell_type": "code",
   "execution_count": null,
   "id": "6076ca37-9614-49fd-98e1-f7421ca5087a",
   "metadata": {},
   "outputs": [],
   "source": [
    "# Load secret variables\n",
    "load_dotenv()\n",
    "mypass = os.getenv(\"mysqlPassDoc\")\n",
    "user = os.getenv(\"mysqlUser\")\n",
    "\n",
    "# Create connection\n",
    "connection=connector.connect(user=user,port=3310,password=mypass)"
   ]
  },
  {
   "cell_type": "code",
   "execution_count": null,
   "id": "fdc4e91d-dbe1-4366-8e67-9b4f713f5510",
   "metadata": {},
   "outputs": [],
   "source": [
    "# Create a cursor\n",
    "cursor = connection.cursor()"
   ]
  },
  {
   "cell_type": "code",
   "execution_count": null,
   "id": "3a263eb6-6a49-48db-b670-5ab530b42e38",
   "metadata": {},
   "outputs": [],
   "source": [
    "# Select the database\n",
    "cursor.execute(\"USE littlelemondb\")"
   ]
  },
  {
   "cell_type": "code",
   "execution_count": 12,
   "id": "96de671d-c7d2-4569-bb06-6e953c96da06",
   "metadata": {},
   "outputs": [
    {
     "data": {
      "text/plain": [
       "'littlelemondb'"
      ]
     },
     "execution_count": 12,
     "metadata": {},
     "output_type": "execute_result"
    }
   ],
   "source": [
    "connection.database"
   ]
  },
  {
   "cell_type": "markdown",
   "id": "196125a4-4745-4044-808e-a51b467cc60a",
   "metadata": {},
   "source": [
    "### Task two\n",
    "Query the database to show all tables within the database. "
   ]
  },
  {
   "cell_type": "code",
   "execution_count": null,
   "id": "d07827ea-3d94-4f87-ba7c-31102342ee67",
   "metadata": {},
   "outputs": [
    {
     "name": "stdout",
     "output_type": "stream",
     "text": [
      "Bookings\n",
      "Customers\n",
      "Employees\n",
      "Items\n",
      "MenuItems\n",
      "Menus\n",
      "OrderDelivery\n",
      "Orders\n",
      "OrdersView\n"
     ]
    }
   ],
   "source": [
    "# Show tables\n",
    "cursor.execute(\"Show tables\")\n",
    "results = cursor.fetchall()\n",
    "\n",
    "for i in results:\n",
    "    print(i[0])"
   ]
  },
  {
   "cell_type": "markdown",
   "id": "2ffcc4a4-0646-4cc6-b9a4-7341e801a383",
   "metadata": {},
   "source": [
    "### Task 3\n",
    "#### Query with table JOIN\n",
    "\n",
    "Little Lemon need you to return the full name and contact details for every customer that has placed an order greater than $60 for a promotional campaign. \n",
    "\n",
    "+ Step One: Identify which tables are required. To complete the query, you first need to identify which table has the required data. \n",
    "\n",
    "The bill paid can be found in Orders as TotalCost and the customer contact information can be found in the Customers table. "
   ]
  },
  {
   "cell_type": "code",
   "execution_count": 23,
   "id": "dc75fd4d-cf38-4011-9998-dc6b1b51abd6",
   "metadata": {},
   "outputs": [
    {
     "name": "stdout",
     "output_type": "stream",
     "text": [
      "('Aime Ferry', 930779628, 'aime_ferry@gmail.com')\n",
      "('Merwin Pikhno', 529347220, 'merwin_pikhno@gmail.com')\n",
      "(\"Susette O'Neil\", 11693967, \"susette_o'neil@gmail.com\")\n",
      "('Schuyler Walewski', 443719315, 'schuyler_walewski@gmail.com')\n",
      "('Alfreda Chasmer', 474238685, 'alfreda_chasmer@gmail.com')\n",
      "('Melodee Gartshore', 309025761, 'melodee_gartshore@gmail.com')\n",
      "('Mary Jellett', 814884385, 'mary_jellett@gmail.com')\n",
      "('Roanna Safont', 917578892, 'roanna_safont@gmail.com')\n",
      "('Janeva Silman', 192036248, 'janeva_silman@gmail.com')\n",
      "('Karissa Sancraft', 130402063, 'karissa_sancraft@gmail.com')\n",
      "('Sheela Stein', 953398822, 'sheela_stein@gmail.com')\n",
      "('Faith Grushin', 825203770, 'faith_grushin@gmail.com')\n",
      "('Mady McMennum', 469572549, 'mady_mcmennum@gmail.com')\n",
      "('Donni Tatem', 378453065, 'donni_tatem@gmail.com')\n",
      "('Merlina Lermit', 811551642, 'merlina_lermit@gmail.com')\n",
      "('Yardley Eliet', 368502399, 'yardley_eliet@gmail.com')\n"
     ]
    }
   ],
   "source": [
    "# Write the query\n",
    "query = \"\"\"SELECT FullName, PhoneNumber, Email \n",
    "        FROM Customers INNER JOIN   \n",
    "        (SELECT CustomerID, OrderNo, SUM(TotalCost) as Cost from Orders GROUP BY OrderNo, CustomerID HAVING Cost > 60) Ordersover\n",
    "        ON Customers.CustomerID = Ordersover.CustomerID\n",
    "        GROUP BY Customers.CustomerID\n",
    "        \"\"\"\n",
    "cursor.execute(query)\n",
    "results = cursor.fetchall()\n",
    "for i in results:\n",
    "    print(i)\n"
   ]
  },
  {
   "cell_type": "code",
   "execution_count": 25,
   "id": "ed50fe2d-edef-40c7-80dc-b3e2ee2f98f0",
   "metadata": {},
   "outputs": [
    {
     "name": "stdout",
     "output_type": "stream",
     "text": [
      "The cursor is closed.\n",
      "MySQL connection is closed.\n"
     ]
    }
   ],
   "source": [
    "# Let's close the cursor and the connection\n",
    "if connection.is_connected():\n",
    "    cursor.close()\n",
    "    print(\"The cursor is closed.\")\n",
    "    connection.close()\n",
    "    print(\"MySQL connection is closed.\")\n",
    "else:\n",
    "    print(\"Connection is already closed\")"
   ]
  },
  {
   "cell_type": "markdown",
   "id": "4d672094",
   "metadata": {},
   "source": [
    "### Author: Anastasia Livio - Marzo, 2025"
   ]
  }
 ],
 "metadata": {
  "kernelspec": {
   "display_name": "Python 3 (ipykernel)",
   "language": "python",
   "name": "python3"
  },
  "language_info": {
   "codemirror_mode": {
    "name": "ipython",
    "version": 3
   },
   "file_extension": ".py",
   "mimetype": "text/x-python",
   "name": "python",
   "nbconvert_exporter": "python",
   "pygments_lexer": "ipython3",
   "version": "3.10.12"
  }
 },
 "nbformat": 4,
 "nbformat_minor": 5
}
